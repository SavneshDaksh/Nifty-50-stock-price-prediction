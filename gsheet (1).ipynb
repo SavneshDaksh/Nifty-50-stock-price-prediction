{
 "cells": [
  {
   "cell_type": "code",
   "execution_count": 1,
   "metadata": {},
   "outputs": [],
   "source": [
    "import numpy as np\n",
    "import pandas as pd\n",
    "import matplotlib.pyplot as plt\n",
    "import seaborn as sns\n",
    "from sklearn.model_selection import train_test_split\n",
    "from sklearn.linear_model import LinearRegression\n",
    "from sklearn.metrics import mean_squared_error, r2_score\n",
    "import time\n",
    "import datetime\n",
    "from sklearn.model_selection import train_test_split\n",
    "from sklearn.linear_model import LinearRegression\n",
    "from sklearn.metrics import mean_squared_error, r2_score\n",
    "from sklearn.preprocessing import PolynomialFeatures\n"
   ]
  },
  {
   "cell_type": "code",
   "execution_count": 2,
   "metadata": {},
   "outputs": [],
   "source": [
    "data = pd.read_excel(\"C:/Users/PCC/Downloads/Nifty50 Stock Price Prediction.xlsx\")"
   ]
  },
  {
   "cell_type": "code",
   "execution_count": 3,
   "metadata": {},
   "outputs": [
    {
     "data": {
      "text/plain": [
       "(49690, 8)"
      ]
     },
     "execution_count": 3,
     "metadata": {},
     "output_type": "execute_result"
    }
   ],
   "source": [
    "data.head(1)\n",
    "data.shape"
   ]
  },
  {
   "cell_type": "code",
   "execution_count": 4,
   "metadata": {},
   "outputs": [],
   "source": [
    "data.dropna(inplace=True)"
   ]
  },
  {
   "cell_type": "code",
   "execution_count": 5,
   "metadata": {},
   "outputs": [],
   "source": [
    "data['Date'] = pd.to_datetime(data['Date'])"
   ]
  },
  {
   "cell_type": "code",
   "execution_count": null,
   "metadata": {},
   "outputs": [],
   "source": []
  },
  {
   "cell_type": "code",
   "execution_count": 8,
   "metadata": {},
   "outputs": [
    {
     "name": "stdout",
     "output_type": "stream",
     "text": [
      "R-squared score: 0.4303424073463692\n",
      "Adjusted R-squared score: 0.41558443862477257\n",
      "Predicted Buying price: 731.6324998892014\n",
      "Predicted Selling price: 760.1734345977893\n",
      "Profit/Loss: 28.540934708587884\n"
     ]
    },
    {
     "name": "stderr",
     "output_type": "stream",
     "text": [
      "c:\\Users\\Vishal Chauhan\\AppData\\Local\\Programs\\Python\\Python310\\lib\\site-packages\\sklearn\\base.py:465: UserWarning: X does not have valid feature names, but PolynomialFeatures was fitted with feature names\n",
      "  warnings.warn(\n",
      "c:\\Users\\Vishal Chauhan\\AppData\\Local\\Programs\\Python\\Python310\\lib\\site-packages\\sklearn\\base.py:465: UserWarning: X does not have valid feature names, but PolynomialFeatures was fitted with feature names\n",
      "  warnings.warn(\n",
      "Execution of job \"update_data (trigger: interval[0:00:03], next run at: 2023-10-20 03:40:54 IST)\" skipped: maximum number of running instances reached (1)\n",
      "c:\\Users\\Vishal Chauhan\\AppData\\Local\\Programs\\Python\\Python310\\lib\\site-packages\\gspread\\worksheet.py:1069: UserWarning: [Deprecated][in version 6.0.0]: method signature will change to: 'Worksheet.update(value = [[]], range_name=)' arguments 'range_name' and 'values' will swap, values will be mandatory of type: 'list(list(...))'\n",
      "  warnings.warn(\n"
     ]
    },
    {
     "name": "stdout",
     "output_type": "stream",
     "text": [
      "\n",
      "\n",
      "R-squared score: 0.4303424073463692\n",
      "Adjusted R-squared score: 0.41558443862477257\n"
     ]
    },
    {
     "name": "stderr",
     "output_type": "stream",
     "text": [
      "c:\\Users\\Vishal Chauhan\\AppData\\Local\\Programs\\Python\\Python310\\lib\\site-packages\\sklearn\\base.py:465: UserWarning: X does not have valid feature names, but PolynomialFeatures was fitted with feature names\n",
      "  warnings.warn(\n",
      "c:\\Users\\Vishal Chauhan\\AppData\\Local\\Programs\\Python\\Python310\\lib\\site-packages\\sklearn\\base.py:465: UserWarning: X does not have valid feature names, but PolynomialFeatures was fitted with feature names\n",
      "  warnings.warn(\n"
     ]
    },
    {
     "name": "stdout",
     "output_type": "stream",
     "text": [
      "Predicted Buying price: 731.6324998892014\n",
      "Predicted Selling price: 760.1734345977893\n",
      "Profit/Loss: 28.540934708587884\n"
     ]
    },
    {
     "name": "stderr",
     "output_type": "stream",
     "text": [
      "Execution of job \"update_data (trigger: interval[0:00:03], next run at: 2023-10-20 03:41:00 IST)\" skipped: maximum number of running instances reached (1)\n",
      "c:\\Users\\Vishal Chauhan\\AppData\\Local\\Programs\\Python\\Python310\\lib\\site-packages\\gspread\\worksheet.py:1069: UserWarning: [Deprecated][in version 6.0.0]: method signature will change to: 'Worksheet.update(value = [[]], range_name=)' arguments 'range_name' and 'values' will swap, values will be mandatory of type: 'list(list(...))'\n",
      "  warnings.warn(\n"
     ]
    },
    {
     "name": "stdout",
     "output_type": "stream",
     "text": [
      "\n",
      "\n",
      "R-squared score: 0.4303424073463692\n",
      "Adjusted R-squared score: 0.41558443862477257\n",
      "Predicted Buying price: 731.6324998892014\n",
      "Predicted Selling price: 760.1734345977893\n",
      "Profit/Loss: 57.08186941717577\n"
     ]
    },
    {
     "name": "stderr",
     "output_type": "stream",
     "text": [
      "c:\\Users\\Vishal Chauhan\\AppData\\Local\\Programs\\Python\\Python310\\lib\\site-packages\\sklearn\\base.py:465: UserWarning: X does not have valid feature names, but PolynomialFeatures was fitted with feature names\n",
      "  warnings.warn(\n",
      "c:\\Users\\Vishal Chauhan\\AppData\\Local\\Programs\\Python\\Python310\\lib\\site-packages\\sklearn\\base.py:465: UserWarning: X does not have valid feature names, but PolynomialFeatures was fitted with feature names\n",
      "  warnings.warn(\n",
      "c:\\Users\\Vishal Chauhan\\AppData\\Local\\Programs\\Python\\Python310\\lib\\site-packages\\gspread\\worksheet.py:1069: UserWarning: [Deprecated][in version 6.0.0]: method signature will change to: 'Worksheet.update(value = [[]], range_name=)' arguments 'range_name' and 'values' will swap, values will be mandatory of type: 'list(list(...))'\n",
      "  warnings.warn(\n",
      "Execution of job \"update_data (trigger: interval[0:00:03], next run at: 2023-10-20 03:41:06 IST)\" skipped: maximum number of running instances reached (1)\n"
     ]
    },
    {
     "name": "stdout",
     "output_type": "stream",
     "text": [
      "\n",
      "\n",
      "R-squared score: 0.4303424073463692\n",
      "Adjusted R-squared score: 0.41558443862477257\n",
      "Predicted Buying price: 731.6324998892014\n",
      "Predicted Selling price: 760.1734345977893\n",
      "Profit/Loss: 57.08186941717577\n"
     ]
    },
    {
     "name": "stderr",
     "output_type": "stream",
     "text": [
      "c:\\Users\\Vishal Chauhan\\AppData\\Local\\Programs\\Python\\Python310\\lib\\site-packages\\sklearn\\base.py:465: UserWarning: X does not have valid feature names, but PolynomialFeatures was fitted with feature names\n",
      "  warnings.warn(\n",
      "c:\\Users\\Vishal Chauhan\\AppData\\Local\\Programs\\Python\\Python310\\lib\\site-packages\\sklearn\\base.py:465: UserWarning: X does not have valid feature names, but PolynomialFeatures was fitted with feature names\n",
      "  warnings.warn(\n",
      "Execution of job \"update_data (trigger: interval[0:00:03], next run at: 2023-10-20 03:41:12 IST)\" skipped: maximum number of running instances reached (1)\n",
      "c:\\Users\\Vishal Chauhan\\AppData\\Local\\Programs\\Python\\Python310\\lib\\site-packages\\gspread\\worksheet.py:1069: UserWarning: [Deprecated][in version 6.0.0]: method signature will change to: 'Worksheet.update(value = [[]], range_name=)' arguments 'range_name' and 'values' will swap, values will be mandatory of type: 'list(list(...))'\n",
      "  warnings.warn(\n"
     ]
    },
    {
     "name": "stdout",
     "output_type": "stream",
     "text": [
      "\n",
      "\n",
      "R-squared score: 0.4303424073463692\n",
      "Adjusted R-squared score: 0.41558443862477257\n",
      "Predicted Buying price: 731.6324998892014\n",
      "Predicted Selling price: 760.1734345977893\n",
      "Profit/Loss: 57.08186941717577\n"
     ]
    },
    {
     "name": "stderr",
     "output_type": "stream",
     "text": [
      "c:\\Users\\Vishal Chauhan\\AppData\\Local\\Programs\\Python\\Python310\\lib\\site-packages\\sklearn\\base.py:465: UserWarning: X does not have valid feature names, but PolynomialFeatures was fitted with feature names\n",
      "  warnings.warn(\n",
      "c:\\Users\\Vishal Chauhan\\AppData\\Local\\Programs\\Python\\Python310\\lib\\site-packages\\sklearn\\base.py:465: UserWarning: X does not have valid feature names, but PolynomialFeatures was fitted with feature names\n",
      "  warnings.warn(\n",
      "c:\\Users\\Vishal Chauhan\\AppData\\Local\\Programs\\Python\\Python310\\lib\\site-packages\\gspread\\worksheet.py:1069: UserWarning: [Deprecated][in version 6.0.0]: method signature will change to: 'Worksheet.update(value = [[]], range_name=)' arguments 'range_name' and 'values' will swap, values will be mandatory of type: 'list(list(...))'\n",
      "  warnings.warn(\n",
      "Execution of job \"update_data (trigger: interval[0:00:03], next run at: 2023-10-20 03:41:18 IST)\" skipped: maximum number of running instances reached (1)\n"
     ]
    },
    {
     "name": "stdout",
     "output_type": "stream",
     "text": [
      "\n",
      "\n",
      "R-squared score: 0.4303424073463692\n",
      "Adjusted R-squared score: 0.41558443862477257\n",
      "Predicted Buying price: 646.0944548067819\n",
      "Predicted Selling price: 760.1734345977893\n",
      "Profit/Loss: 228.15795958201488\n"
     ]
    },
    {
     "name": "stderr",
     "output_type": "stream",
     "text": [
      "c:\\Users\\Vishal Chauhan\\AppData\\Local\\Programs\\Python\\Python310\\lib\\site-packages\\sklearn\\base.py:465: UserWarning: X does not have valid feature names, but PolynomialFeatures was fitted with feature names\n",
      "  warnings.warn(\n",
      "c:\\Users\\Vishal Chauhan\\AppData\\Local\\Programs\\Python\\Python310\\lib\\site-packages\\sklearn\\base.py:465: UserWarning: X does not have valid feature names, but PolynomialFeatures was fitted with feature names\n",
      "  warnings.warn(\n",
      "c:\\Users\\Vishal Chauhan\\AppData\\Local\\Programs\\Python\\Python310\\lib\\site-packages\\gspread\\worksheet.py:1069: UserWarning: [Deprecated][in version 6.0.0]: method signature will change to: 'Worksheet.update(value = [[]], range_name=)' arguments 'range_name' and 'values' will swap, values will be mandatory of type: 'list(list(...))'\n",
      "  warnings.warn(\n",
      "Execution of job \"update_data (trigger: interval[0:00:03], next run at: 2023-10-20 03:41:24 IST)\" skipped: maximum number of running instances reached (1)\n"
     ]
    },
    {
     "name": "stdout",
     "output_type": "stream",
     "text": [
      "\n",
      "\n",
      "R-squared score: 0.4303424073463692\n",
      "Adjusted R-squared score: 0.41558443862477257\n",
      "Predicted Buying price: 646.0944548067819\n",
      "Predicted Selling price: 760.1734345977893\n",
      "Profit/Loss: 228.15795958201488\n"
     ]
    },
    {
     "name": "stderr",
     "output_type": "stream",
     "text": [
      "c:\\Users\\Vishal Chauhan\\AppData\\Local\\Programs\\Python\\Python310\\lib\\site-packages\\sklearn\\base.py:465: UserWarning: X does not have valid feature names, but PolynomialFeatures was fitted with feature names\n",
      "  warnings.warn(\n",
      "c:\\Users\\Vishal Chauhan\\AppData\\Local\\Programs\\Python\\Python310\\lib\\site-packages\\sklearn\\base.py:465: UserWarning: X does not have valid feature names, but PolynomialFeatures was fitted with feature names\n",
      "  warnings.warn(\n",
      "Execution of job \"update_data (trigger: interval[0:00:03], next run at: 2023-10-20 03:41:30 IST)\" skipped: maximum number of running instances reached (1)\n",
      "c:\\Users\\Vishal Chauhan\\AppData\\Local\\Programs\\Python\\Python310\\lib\\site-packages\\gspread\\worksheet.py:1069: UserWarning: [Deprecated][in version 6.0.0]: method signature will change to: 'Worksheet.update(value = [[]], range_name=)' arguments 'range_name' and 'values' will swap, values will be mandatory of type: 'list(list(...))'\n",
      "  warnings.warn(\n"
     ]
    },
    {
     "name": "stdout",
     "output_type": "stream",
     "text": [
      "\n",
      "\n",
      "R-squared score: 0.4303424073463692\n",
      "Adjusted R-squared score: 0.41558443862477257\n",
      "Predicted Buying price: 646.0944548067819\n",
      "Predicted Selling price: 760.1734345977893\n",
      "Profit/Loss: 228.15795958201488\n"
     ]
    },
    {
     "name": "stderr",
     "output_type": "stream",
     "text": [
      "c:\\Users\\Vishal Chauhan\\AppData\\Local\\Programs\\Python\\Python310\\lib\\site-packages\\sklearn\\base.py:465: UserWarning: X does not have valid feature names, but PolynomialFeatures was fitted with feature names\n",
      "  warnings.warn(\n",
      "c:\\Users\\Vishal Chauhan\\AppData\\Local\\Programs\\Python\\Python310\\lib\\site-packages\\sklearn\\base.py:465: UserWarning: X does not have valid feature names, but PolynomialFeatures was fitted with feature names\n",
      "  warnings.warn(\n",
      "c:\\Users\\Vishal Chauhan\\AppData\\Local\\Programs\\Python\\Python310\\lib\\site-packages\\gspread\\worksheet.py:1069: UserWarning: [Deprecated][in version 6.0.0]: method signature will change to: 'Worksheet.update(value = [[]], range_name=)' arguments 'range_name' and 'values' will swap, values will be mandatory of type: 'list(list(...))'\n",
      "  warnings.warn(\n",
      "Execution of job \"update_data (trigger: interval[0:00:03], next run at: 2023-10-20 03:41:36 IST)\" skipped: maximum number of running instances reached (1)\n"
     ]
    },
    {
     "name": "stdout",
     "output_type": "stream",
     "text": [
      "\n",
      "\n",
      "R-squared score: 0.4303424073463692\n",
      "Adjusted R-squared score: 0.41558443862477257\n",
      "Predicted Buying price: 646.0944548067819\n",
      "Predicted Selling price: 760.1734345977893\n",
      "Profit/Loss: 228.15795958201488\n"
     ]
    },
    {
     "name": "stderr",
     "output_type": "stream",
     "text": [
      "c:\\Users\\Vishal Chauhan\\AppData\\Local\\Programs\\Python\\Python310\\lib\\site-packages\\sklearn\\base.py:465: UserWarning: X does not have valid feature names, but PolynomialFeatures was fitted with feature names\n",
      "  warnings.warn(\n",
      "c:\\Users\\Vishal Chauhan\\AppData\\Local\\Programs\\Python\\Python310\\lib\\site-packages\\sklearn\\base.py:465: UserWarning: X does not have valid feature names, but PolynomialFeatures was fitted with feature names\n",
      "  warnings.warn(\n",
      "Execution of job \"update_data (trigger: interval[0:00:03], next run at: 2023-10-20 03:41:42 IST)\" skipped: maximum number of running instances reached (1)\n",
      "c:\\Users\\Vishal Chauhan\\AppData\\Local\\Programs\\Python\\Python310\\lib\\site-packages\\gspread\\worksheet.py:1069: UserWarning: [Deprecated][in version 6.0.0]: method signature will change to: 'Worksheet.update(value = [[]], range_name=)' arguments 'range_name' and 'values' will swap, values will be mandatory of type: 'list(list(...))'\n",
      "  warnings.warn(\n"
     ]
    },
    {
     "name": "stdout",
     "output_type": "stream",
     "text": [
      "\n",
      "\n",
      "R-squared score: 0.4303424073463692\n",
      "Adjusted R-squared score: 0.41558443862477257\n",
      "Predicted Buying price: 646.0944548067819\n",
      "Predicted Selling price: 760.1734345977893\n",
      "Profit/Loss: 228.15795958201488\n"
     ]
    },
    {
     "name": "stderr",
     "output_type": "stream",
     "text": [
      "c:\\Users\\Vishal Chauhan\\AppData\\Local\\Programs\\Python\\Python310\\lib\\site-packages\\sklearn\\base.py:465: UserWarning: X does not have valid feature names, but PolynomialFeatures was fitted with feature names\n",
      "  warnings.warn(\n",
      "c:\\Users\\Vishal Chauhan\\AppData\\Local\\Programs\\Python\\Python310\\lib\\site-packages\\sklearn\\base.py:465: UserWarning: X does not have valid feature names, but PolynomialFeatures was fitted with feature names\n",
      "  warnings.warn(\n",
      "Execution of job \"update_data (trigger: interval[0:00:03], next run at: 2023-10-20 03:41:48 IST)\" skipped: maximum number of running instances reached (1)\n",
      "c:\\Users\\Vishal Chauhan\\AppData\\Local\\Programs\\Python\\Python310\\lib\\site-packages\\gspread\\worksheet.py:1069: UserWarning: [Deprecated][in version 6.0.0]: method signature will change to: 'Worksheet.update(value = [[]], range_name=)' arguments 'range_name' and 'values' will swap, values will be mandatory of type: 'list(list(...))'\n",
      "  warnings.warn(\n"
     ]
    },
    {
     "name": "stdout",
     "output_type": "stream",
     "text": [
      "\n",
      "\n",
      "R-squared score: 0.4303424073463692\n",
      "Adjusted R-squared score: 0.41558443862477257\n",
      "Predicted Buying price: 646.0944548067819\n",
      "Predicted Selling price: 760.1734345977893\n",
      "Profit/Loss: 228.15795958201488\n"
     ]
    },
    {
     "name": "stderr",
     "output_type": "stream",
     "text": [
      "c:\\Users\\Vishal Chauhan\\AppData\\Local\\Programs\\Python\\Python310\\lib\\site-packages\\sklearn\\base.py:465: UserWarning: X does not have valid feature names, but PolynomialFeatures was fitted with feature names\n",
      "  warnings.warn(\n",
      "c:\\Users\\Vishal Chauhan\\AppData\\Local\\Programs\\Python\\Python310\\lib\\site-packages\\sklearn\\base.py:465: UserWarning: X does not have valid feature names, but PolynomialFeatures was fitted with feature names\n",
      "  warnings.warn(\n",
      "Execution of job \"update_data (trigger: interval[0:00:03], next run at: 2023-10-20 03:41:54 IST)\" skipped: maximum number of running instances reached (1)\n",
      "c:\\Users\\Vishal Chauhan\\AppData\\Local\\Programs\\Python\\Python310\\lib\\site-packages\\gspread\\worksheet.py:1069: UserWarning: [Deprecated][in version 6.0.0]: method signature will change to: 'Worksheet.update(value = [[]], range_name=)' arguments 'range_name' and 'values' will swap, values will be mandatory of type: 'list(list(...))'\n",
      "  warnings.warn(\n"
     ]
    },
    {
     "name": "stdout",
     "output_type": "stream",
     "text": [
      "\n",
      "\n",
      "R-squared score: 0.4303424073463692\n",
      "Adjusted R-squared score: 0.41558443862477257\n",
      "Predicted Buying price: 646.0944548067819\n",
      "Predicted Selling price: 760.1734345977893\n",
      "Profit/Loss: 228.15795958201488\n"
     ]
    },
    {
     "name": "stderr",
     "output_type": "stream",
     "text": [
      "c:\\Users\\Vishal Chauhan\\AppData\\Local\\Programs\\Python\\Python310\\lib\\site-packages\\sklearn\\base.py:465: UserWarning: X does not have valid feature names, but PolynomialFeatures was fitted with feature names\n",
      "  warnings.warn(\n",
      "c:\\Users\\Vishal Chauhan\\AppData\\Local\\Programs\\Python\\Python310\\lib\\site-packages\\sklearn\\base.py:465: UserWarning: X does not have valid feature names, but PolynomialFeatures was fitted with feature names\n",
      "  warnings.warn(\n",
      "Execution of job \"update_data (trigger: interval[0:00:03], next run at: 2023-10-20 03:42:00 IST)\" skipped: maximum number of running instances reached (1)\n",
      "c:\\Users\\Vishal Chauhan\\AppData\\Local\\Programs\\Python\\Python310\\lib\\site-packages\\gspread\\worksheet.py:1069: UserWarning: [Deprecated][in version 6.0.0]: method signature will change to: 'Worksheet.update(value = [[]], range_name=)' arguments 'range_name' and 'values' will swap, values will be mandatory of type: 'list(list(...))'\n",
      "  warnings.warn(\n"
     ]
    },
    {
     "name": "stdout",
     "output_type": "stream",
     "text": [
      "\n",
      "\n"
     ]
    },
    {
     "ename": "KeyboardInterrupt",
     "evalue": "",
     "output_type": "error",
     "traceback": [
      "\u001b[1;31m---------------------------------------------------------------------------\u001b[0m",
      "\u001b[1;31mKeyboardInterrupt\u001b[0m                         Traceback (most recent call last)",
      "\u001b[1;32mv:\\Masai School Class\\Project 3\\nn.ipynb Cell 7\u001b[0m line \u001b[0;36m1\n\u001b[0;32m    <a href='vscode-notebook-cell:/v%3A/Masai%20School%20Class/Project%203/nn.ipynb#W5sZmlsZQ%3D%3D?line=128'>129</a>\u001b[0m scheduler \u001b[39m=\u001b[39m BlockingScheduler()\n\u001b[0;32m    <a href='vscode-notebook-cell:/v%3A/Masai%20School%20Class/Project%203/nn.ipynb#W5sZmlsZQ%3D%3D?line=129'>130</a>\u001b[0m scheduler\u001b[39m.\u001b[39madd_job(update_data, \u001b[39m'\u001b[39m\u001b[39minterval\u001b[39m\u001b[39m'\u001b[39m, minutes\u001b[39m=\u001b[39m\u001b[39m0.05\u001b[39m)\n\u001b[1;32m--> <a href='vscode-notebook-cell:/v%3A/Masai%20School%20Class/Project%203/nn.ipynb#W5sZmlsZQ%3D%3D?line=130'>131</a>\u001b[0m scheduler\u001b[39m.\u001b[39;49mstart()\n\u001b[0;32m    <a href='vscode-notebook-cell:/v%3A/Masai%20School%20Class/Project%203/nn.ipynb#W5sZmlsZQ%3D%3D?line=132'>133</a>\u001b[0m \u001b[39m# Keep the script running\u001b[39;00m\n\u001b[0;32m    <a href='vscode-notebook-cell:/v%3A/Masai%20School%20Class/Project%203/nn.ipynb#W5sZmlsZQ%3D%3D?line=133'>134</a>\u001b[0m \u001b[39mtry\u001b[39;00m:\n",
      "File \u001b[1;32mc:\\Users\\Vishal Chauhan\\AppData\\Local\\Programs\\Python\\Python310\\lib\\site-packages\\apscheduler\\schedulers\\blocking.py:21\u001b[0m, in \u001b[0;36mBlockingScheduler.start\u001b[1;34m(self, *args, **kwargs)\u001b[0m\n\u001b[0;32m     18\u001b[0m     \u001b[39mself\u001b[39m\u001b[39m.\u001b[39m_event \u001b[39m=\u001b[39m Event()\n\u001b[0;32m     20\u001b[0m \u001b[39msuper\u001b[39m(BlockingScheduler, \u001b[39mself\u001b[39m)\u001b[39m.\u001b[39mstart(\u001b[39m*\u001b[39margs, \u001b[39m*\u001b[39m\u001b[39m*\u001b[39mkwargs)\n\u001b[1;32m---> 21\u001b[0m \u001b[39mself\u001b[39;49m\u001b[39m.\u001b[39;49m_main_loop()\n",
      "File \u001b[1;32mc:\\Users\\Vishal Chauhan\\AppData\\Local\\Programs\\Python\\Python310\\lib\\site-packages\\apscheduler\\schedulers\\blocking.py:30\u001b[0m, in \u001b[0;36mBlockingScheduler._main_loop\u001b[1;34m(self)\u001b[0m\n\u001b[0;32m     28\u001b[0m wait_seconds \u001b[39m=\u001b[39m TIMEOUT_MAX\n\u001b[0;32m     29\u001b[0m \u001b[39mwhile\u001b[39;00m \u001b[39mself\u001b[39m\u001b[39m.\u001b[39mstate \u001b[39m!=\u001b[39m STATE_STOPPED:\n\u001b[1;32m---> 30\u001b[0m     \u001b[39mself\u001b[39;49m\u001b[39m.\u001b[39;49m_event\u001b[39m.\u001b[39;49mwait(wait_seconds)\n\u001b[0;32m     31\u001b[0m     \u001b[39mself\u001b[39m\u001b[39m.\u001b[39m_event\u001b[39m.\u001b[39mclear()\n\u001b[0;32m     32\u001b[0m     wait_seconds \u001b[39m=\u001b[39m \u001b[39mself\u001b[39m\u001b[39m.\u001b[39m_process_jobs()\n",
      "File \u001b[1;32mc:\\Users\\Vishal Chauhan\\AppData\\Local\\Programs\\Python\\Python310\\lib\\threading.py:600\u001b[0m, in \u001b[0;36mEvent.wait\u001b[1;34m(self, timeout)\u001b[0m\n\u001b[0;32m    598\u001b[0m signaled \u001b[39m=\u001b[39m \u001b[39mself\u001b[39m\u001b[39m.\u001b[39m_flag\n\u001b[0;32m    599\u001b[0m \u001b[39mif\u001b[39;00m \u001b[39mnot\u001b[39;00m signaled:\n\u001b[1;32m--> 600\u001b[0m     signaled \u001b[39m=\u001b[39m \u001b[39mself\u001b[39;49m\u001b[39m.\u001b[39;49m_cond\u001b[39m.\u001b[39;49mwait(timeout)\n\u001b[0;32m    601\u001b[0m \u001b[39mreturn\u001b[39;00m signaled\n",
      "File \u001b[1;32mc:\\Users\\Vishal Chauhan\\AppData\\Local\\Programs\\Python\\Python310\\lib\\threading.py:324\u001b[0m, in \u001b[0;36mCondition.wait\u001b[1;34m(self, timeout)\u001b[0m\n\u001b[0;32m    322\u001b[0m \u001b[39melse\u001b[39;00m:\n\u001b[0;32m    323\u001b[0m     \u001b[39mif\u001b[39;00m timeout \u001b[39m>\u001b[39m \u001b[39m0\u001b[39m:\n\u001b[1;32m--> 324\u001b[0m         gotit \u001b[39m=\u001b[39m waiter\u001b[39m.\u001b[39;49macquire(\u001b[39mTrue\u001b[39;49;00m, timeout)\n\u001b[0;32m    325\u001b[0m     \u001b[39melse\u001b[39;00m:\n\u001b[0;32m    326\u001b[0m         gotit \u001b[39m=\u001b[39m waiter\u001b[39m.\u001b[39macquire(\u001b[39mFalse\u001b[39;00m)\n",
      "\u001b[1;31mKeyboardInterrupt\u001b[0m: "
     ]
    }
   ],
   "source": [
    "import gspread\n",
    "from oauth2client.service_account import ServiceAccountCredentials\n",
    "\n",
    "# Initialize credentials\n",
    "scope = [\"https://spreadsheets.google.com/feeds\", \"https://www.googleapis.com/auth/drive\"]\n",
    "creds = ServiceAccountCredentials.from_json_keyfile_name('key.json', scope)\n",
    "client = gspread.authorize(creds)\n",
    "\n",
    "# Open your Google Sheet by title or URL\n",
    "sheet = client.open('new')\n",
    "\n",
    "# Function to update data from the sheet\n",
    "def update_data():\n",
    "    \n",
    "    # data = worksheet.get_all_values()\n",
    "    # Access a specific worksheet within the Google Sheet\n",
    "    worksheet = sheet.worksheet('Sheet1')  # Replace 'Worksheet Title' with your worksheet title\n",
    "\n",
    "    # Fetch data from a specific column (e.g., column A)\n",
    "    column_values = worksheet.col_values(6)  # Replace '1' with the column number you want\n",
    "\n",
    "    # Initialize an empty list to store the values\n",
    "    data_list = []\n",
    "\n",
    "    # Append the column values to the list\n",
    "    data_list.extend(column_values)\n",
    "    # print(data_list)\n",
    "    stock_name = data_list[1]\n",
    "    qty = int(data_list[2])\n",
    "    buying_date = data_list[3]\n",
    "    selling_date = data_list[4]\n",
    "    pnl = data_list[7]\n",
    "    \n",
    "\n",
    "    new_data = data[data['Stock Name']== stock_name]\n",
    "    new_data = new_data.copy()\n",
    "    new_data['Year'] = new_data['Date'].dt.year\n",
    "    new_data['Month'] = new_data['Date'].dt.month\n",
    "    new_data['Day'] = new_data['Date'].dt.day\n",
    "\n",
    "    y = new_data['Close']\n",
    "\n",
    "    x = new_data[['Volume', 'Chg%', 'Year', 'Month', 'Day']]\n",
    "    x_train, x_test, y_train, y_test = train_test_split(x, y, test_size=0.2, random_state=42)\n",
    "\n",
    "    \n",
    "    # Create polynomial features\n",
    "    poly = PolynomialFeatures(degree=2)\n",
    "    x_train_poly = poly.fit_transform(x_train)\n",
    "    x_test_poly = poly.transform(x_test)\n",
    "\n",
    "\n",
    "    lr = LinearRegression()\n",
    "\n",
    "    # Train the model\n",
    "    lr.fit(x_train_poly, y_train)\n",
    "    y_pred=lr.predict(x_test_poly)\n",
    "\n",
    "    y_predt=lr.predict(x_train_poly)\n",
    "\n",
    "    mse = mean_squared_error(y_test, y_pred)\n",
    "    rmse = np.sqrt(mse)\n",
    "    r2 = r2_score(y_test, y_pred)\n",
    "    n = len(y_test)\n",
    "    p = x_test.shape[1]\n",
    "    adj_r2 = 1 - ((1 - r2) * (n - 1)) / (n - p - 1)\n",
    "\n",
    "\n",
    "    print(\"R-squared score:\", r2)\n",
    "    print(\"Adjusted R-squared score:\", adj_r2)\n",
    "\n",
    "    new_data['Date'] = new_data['Date'].astype(str)\n",
    "    new_data['Date'] = new_data['Date'].apply(lambda x: datetime.datetime.strptime(x, '%Y-%m-%d').date())\n",
    "\n",
    "\n",
    "    # Convert the buying and selling dates to datetime.date objects\n",
    "    buying_date = datetime.datetime.strptime(buying_date, '%Y-%m-%d').date()\n",
    "    selling_date = datetime.datetime.strptime(selling_date, '%Y-%m-%d').date()\n",
    "\n",
    "    # Get the current date\n",
    "    today_date = datetime.date.today()\n",
    "\n",
    "\n",
    "\n",
    "    # Extract data for features\n",
    "    last_100_data = new_data.iloc[-100:]\n",
    "    volume_mean = np.mean(last_100_data['Volume'])\n",
    "    chg_mean = np.mean(last_100_data['Chg%'])\n",
    "    volume_std = np.std(last_100_data['Volume'])\n",
    "    chg_std = np.std(last_100_data['Chg%'])\n",
    "\n",
    "    buying_year = buying_date.year\n",
    "    buying_month = buying_date.month\n",
    "    buying_day = buying_date.day\n",
    "    selling_year = selling_date.year\n",
    "    selling_month = selling_date.month\n",
    "    selling_day = selling_date.day\n",
    "\n",
    "    # Create feature vectors for buying and selling dates\n",
    "    X_buying = np.array([[volume_mean, chg_mean,buying_year,buying_month,buying_day ]])\n",
    "    X_buying_scaled = (X_buying - [volume_mean, chg_mean, 0, 0, 0]) / [volume_std, chg_std, 1, 1, 1]\n",
    "    predicted_close_buying = lr.predict(poly.transform(X_buying_scaled))[-1]\n",
    "\n",
    "    X_selling = np.array([[volume_mean, chg_mean,selling_year,selling_month,selling_day ]])\n",
    "    X_selling_scaled = (X_selling - [volume_mean, chg_mean, 0, 0, 0]) / [volume_std, chg_std, 1, 1, 1]\n",
    "    predicted_close_selling = lr.predict(poly.transform(X_selling_scaled))[-1]\n",
    "\n",
    "    # Calculate profit or loss\n",
    "    buying_price = predicted_close_buying\n",
    "    selling_price = predicted_close_selling\n",
    "    pnl = (selling_price - buying_price) * qty\n",
    "\n",
    "    # Display the results\n",
    "    print('Predicted Buying price:', predicted_close_buying)\n",
    "    print('Predicted Selling price:', predicted_close_selling)\n",
    "    print('Profit/Loss:', pnl)\n",
    "\n",
    "\n",
    "    gc = gspread.service_account(filename=\"V:\\Masai School Class\\Project 3\\key.json\")\n",
    "    wks = gc.open('new').sheet1\n",
    "    wks.update('F8',pnl)\n",
    "    print()\n",
    "    print()\n",
    "\n",
    "\n",
    "\n",
    "# Update data periodically (e.g., every 30 minutes)\n",
    "from apscheduler.schedulers.blocking import BlockingScheduler\n",
    "scheduler = BlockingScheduler()\n",
    "scheduler.add_job(update_data, 'interval', minutes=0.05)\n",
    "scheduler.start()\n",
    "\n",
    "# Keep the script running\n",
    "try:\n",
    "    while True:\n",
    "        pass\n",
    "except (KeyboardInterrupt, SystemExit):\n",
    "    # Shut down the scheduler gracefully on keyboard interrupt or system exit\n",
    "    scheduler.shutdown()"
   ]
  }
 ],
 "metadata": {
  "kernelspec": {
   "display_name": "Python 3",
   "language": "python",
   "name": "python3"
  },
  "language_info": {
   "codemirror_mode": {
    "name": "ipython",
    "version": 3
   },
   "file_extension": ".py",
   "mimetype": "text/x-python",
   "name": "python",
   "nbconvert_exporter": "python",
   "pygments_lexer": "ipython3",
   "version": "3.10.4"
  }
 },
 "nbformat": 4,
 "nbformat_minor": 2
}
